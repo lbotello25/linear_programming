{
 "cells": [
  {
   "cell_type": "markdown",
   "metadata": {},
   "source": [
    "__Programming Assignment #2__ <br>\n",
    "_ORI 391Q: Linear Programming_  <br>\n",
    "\n",
    "Luis Botello <br>\n",
    "LB34352 <br>\n",
    "9/27/22"
   ]
  },
  {
   "cell_type": "code",
   "execution_count": 38,
   "metadata": {},
   "outputs": [],
   "source": [
    "#Import Libraries\n",
    "import scipy.sparse as sparse\n",
    "import numpy as np\n",
    "from scipy.linalg import lu_factor, lu_solve\n",
    "from scipy.linalg import cho_factor, cho_solve"
   ]
  },
  {
   "cell_type": "code",
   "execution_count": 3,
   "metadata": {},
   "outputs": [],
   "source": [
    "#Random Matrix Constructor Class\n",
    "class matrix_gen:\n",
    "    def __init__(self, rows, columns, density, lower_bound, upper_bound):\n",
    "        self.rows = rows\n",
    "        self.columns = columns\n",
    "        self.density = density\n",
    "        self.upper_bound = upper_bound\n",
    "        self.lower_bound = lower_bound\n",
    "\n",
    "    def norm_matrix(self):  #generate matrix using user-defined dimensions and density\n",
    "        np.random.seed(1)  #for testing\n",
    "        return sparse.random(self.rows, self.columns, density=self.density).todense()\n",
    "\n",
    "    def scaled_matrix(self):  #scaled norm_matrix using user-defined bounds\n",
    "        test = self.norm_matrix()\n",
    "        return np.where(test>0,\n",
    "                        (test*(self.upper_bound - self.lower_bound))+self.lower_bound,\n",
    "                        test)"
   ]
  },
  {
   "cell_type": "code",
   "execution_count": 4,
   "metadata": {},
   "outputs": [],
   "source": [
    "#Generate Random Matrix, B with dimensions: 10x10 and density = 0.8\n",
    "B = matrix_gen(10,10,.8,-10,30).scaled_matrix()"
   ]
  },
  {
   "cell_type": "code",
   "execution_count": 5,
   "metadata": {},
   "outputs": [],
   "source": [
    "#Check for all-zero rows and columns & for singularity.\n",
    "#If requirements are not met, generate new matrix of same dimension and density until requirements are met\n",
    "counter = 1\n",
    "while (~np.any(B>0, axis = 0)).any() == True or (~np.any(B>0, axis = 1)).any() == True or np.linalg.det(B) == 0:\n",
    "    counter += 1\n",
    "    print(\"Matrix is singular or an all-Zero row or column was detected, trial #:\", counter)\n",
    "    B = matrix_gen(10,10,.8,-10,30).scaled_matrix()"
   ]
  },
  {
   "cell_type": "code",
   "execution_count": 23,
   "metadata": {},
   "outputs": [
    {
     "name": "stdout",
     "output_type": "stream",
     "text": [
      "Matrix B:\n",
      "Determinant= -63198234235463.46\n",
      "[[22.52  4.26  0.   -0.73 13.15  0.    4.71  1.13 -8.19  1.59]\n",
      " [ 0.    0.   -5.71 15.91  8.9  -4.95  7.08  0.   -8.81 -2.32]\n",
      " [20.11  0.   14.52 17.61 -0.66 15.51  9.92  0.   25.69 16.09]\n",
      " [-5.91  4.48  8.83 21.7  10.33  0.76 20.07 25.25 -7.2  25.33]\n",
      " [10.75 26.66 -8.03 20.58  4.16  2.05  0.    1.55 -4.4  -7.44]\n",
      " [ 0.   12.05  0.   21.48 19.71 -1.66 11.54  0.   27.49 20.91]\n",
      " [ 0.    0.    8.57  7.92 27.67 12.84 28.71  0.    8.7   7.14]\n",
      " [ 7.11 11.63  4.21  0.   -6.34 18.7  20.52 23.27 10.39 -9.53]\n",
      " [ 6.72  0.    0.    5.19 -9.64 -3.11 -3.87 20.53 -3.88 -0.79]\n",
      " [ 0.   -7.05  0.    4.45  5.85 18.36  5.1   0.   12.8  20.86]]\n"
     ]
    }
   ],
   "source": [
    "print('Matrix B:')\n",
    "print('Determinant=', np.linalg.det(B))\n",
    "print(np.round(B,decimals=2))"
   ]
  },
  {
   "cell_type": "code",
   "execution_count": 24,
   "metadata": {},
   "outputs": [
    {
     "name": "stdout",
     "output_type": "stream",
     "text": [
      "Matrix, b:\n",
      "[[15.664]\n",
      " [22.173]\n",
      " [19.396]\n",
      " [26.227]\n",
      " [42.316]\n",
      " [ 0.   ]\n",
      " [46.777]\n",
      " [11.479]\n",
      " [ 0.   ]\n",
      " [33.487]]\n"
     ]
    }
   ],
   "source": [
    "#Generate Random Matrix, b with dimensions: 10x1 and density = 0.8\n",
    "b = matrix_gen(10,1,.8,0,50).scaled_matrix()\n",
    "print('Matrix, b:')\n",
    "print(np.round(b,decimals=3))"
   ]
  },
  {
   "cell_type": "markdown",
   "metadata": {},
   "source": [
    "##### __Method 1: LU Factorization__"
   ]
  },
  {
   "cell_type": "code",
   "execution_count": 47,
   "metadata": {},
   "outputs": [
    {
     "name": "stdout",
     "output_type": "stream",
     "text": [
      "Solution via LU Decomposition\n",
      "[[-0.363]\n",
      " [-0.286]\n",
      " [ 0.935]\n",
      " [ 1.641]\n",
      " [ 2.183]\n",
      " [ 2.959]\n",
      " [-1.995]\n",
      " [ 0.582]\n",
      " [-0.96 ]\n",
      " [-0.98 ]]\n"
     ]
    }
   ],
   "source": [
    "#Method 1: LU Decomposition\n",
    "lu, piv = lu_factor(B)\n",
    "x = lu_solve((lu,piv), b)\n",
    "\n",
    "print('Solution via LU Decomposition')\n",
    "print(np.round(x, decimals=3))"
   ]
  },
  {
   "cell_type": "markdown",
   "metadata": {},
   "source": [
    "##### __Method 2: Scipy Routine that Solves Bx = b Directly__"
   ]
  },
  {
   "cell_type": "code",
   "execution_count": 66,
   "metadata": {},
   "outputs": [
    {
     "name": "stdout",
     "output_type": "stream",
     "text": [
      "Solution via Scipy .solve method\n",
      "[[-0.363]\n",
      " [-0.286]\n",
      " [ 0.935]\n",
      " [ 1.641]\n",
      " [ 2.183]\n",
      " [ 2.959]\n",
      " [-1.995]\n",
      " [ 0.582]\n",
      " [-0.96 ]\n",
      " [-0.98 ]]\n"
     ]
    }
   ],
   "source": [
    "x = scipy.linalg.solve(B, b)\n",
    "\n",
    "print('Solution via Scipy .solve method')\n",
    "print(np.round(x, decimals=3))"
   ]
  },
  {
   "cell_type": "markdown",
   "metadata": {},
   "source": [
    "##### __Method 2: Inverse of Matrix B, and Dot Product__"
   ]
  },
  {
   "cell_type": "code",
   "execution_count": 67,
   "metadata": {},
   "outputs": [],
   "source": [
    "#Inverse matrix B, using numpy .inv() function.\n",
    "inv_B = np.linalg.inv(B)"
   ]
  },
  {
   "cell_type": "code",
   "execution_count": 49,
   "metadata": {},
   "outputs": [
    {
     "name": "stdout",
     "output_type": "stream",
     "text": [
      "Solution via Inverse of B\n",
      "[[-0.363]\n",
      " [-0.286]\n",
      " [ 0.935]\n",
      " [ 1.641]\n",
      " [ 2.183]\n",
      " [ 2.959]\n",
      " [-1.995]\n",
      " [ 0.582]\n",
      " [-0.96 ]\n",
      " [-0.98 ]]\n"
     ]
    }
   ],
   "source": [
    "#Solve using dot product.\n",
    "x  = np.dot(inv_B,b)\n",
    "\n",
    "print('Solution via Inverse of B')\n",
    "print(np.round(x,decimals=3))"
   ]
  },
  {
   "cell_type": "markdown",
   "metadata": {},
   "source": [
    "##### __Method 4: Cholesky Factors__"
   ]
  },
  {
   "cell_type": "code",
   "execution_count": 76,
   "metadata": {},
   "outputs": [],
   "source": [
    "D = 0.5*(B + np.matrix.transpose(B))"
   ]
  },
  {
   "cell_type": "code",
   "execution_count": 77,
   "metadata": {},
   "outputs": [],
   "source": [
    "#Function to check if Matrix is Positive Definitive\n",
    "def is_pos_def(A):\n",
    "    try:\n",
    "        scipy.linalg.cholesky(A)\n",
    "        return True\n",
    "    except scipy.linalg.LinAlgError:\n",
    "        return False"
   ]
  },
  {
   "cell_type": "code",
   "execution_count": 78,
   "metadata": {},
   "outputs": [
    {
     "data": {
      "text/plain": [
       "False"
      ]
     },
     "execution_count": 78,
     "metadata": {},
     "output_type": "execute_result"
    }
   ],
   "source": [
    "#Check if D is positive definitive \n",
    "is_pos_def(D)"
   ]
  },
  {
   "cell_type": "code",
   "execution_count": 79,
   "metadata": {},
   "outputs": [],
   "source": [
    "for i in range(len(D)):\n",
    "    D[i,i] = D[i,i] + 100"
   ]
  },
  {
   "cell_type": "code",
   "execution_count": 80,
   "metadata": {},
   "outputs": [
    {
     "name": "stdout",
     "output_type": "stream",
     "text": [
      "Solution via Cholesky Factors\n",
      "[[ 0.072]\n",
      " [ 0.158]\n",
      " [ 0.136]\n",
      " [ 0.084]\n",
      " [ 0.346]\n",
      " [-0.164]\n",
      " [ 0.298]\n",
      " [ 0.078]\n",
      " [-0.001]\n",
      " [ 0.28 ]]\n"
     ]
    }
   ],
   "source": [
    "#Solves for x using Cholesky factors\n",
    "c, low = cho_factor(D)\n",
    "x = cho_solve((c, low), b)\n",
    "\n",
    "print('Solution via Cholesky Factors')\n",
    "print(np.round(x,decimals=3))"
   ]
  }
 ],
 "metadata": {
  "kernelspec": {
   "display_name": "Python 3.10.4 (conda)",
   "language": "python",
   "name": "python3"
  },
  "language_info": {
   "codemirror_mode": {
    "name": "ipython",
    "version": 3
   },
   "file_extension": ".py",
   "mimetype": "text/x-python",
   "name": "python",
   "nbconvert_exporter": "python",
   "pygments_lexer": "ipython3",
   "version": "3.10.4"
  },
  "orig_nbformat": 4,
  "vscode": {
   "interpreter": {
    "hash": "a6bd715eb85e0b2ed6035875e367709256216e11cb5a09f10cc3ac0711ca2b44"
   }
  }
 },
 "nbformat": 4,
 "nbformat_minor": 2
}
